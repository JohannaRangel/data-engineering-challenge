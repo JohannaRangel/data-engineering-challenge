{
 "cells": [
  {
   "cell_type": "markdown",
   "id": "7c1e59fc-2dea-4f4f-b4d2-e5bf8fc8388a",
   "metadata": {},
   "source": [
    "### Graph Representation\n",
    "First, we need to represent the graph in a data structure that allows us to work with it. In this case, we will use a dictionary of lists to represent the graph, where each key is a vertex and the value is a list of tuples representing the edges (destination vertex, cost)."
   ]
  },
  {
   "cell_type": "code",
   "execution_count": 19,
   "id": "167b8bc6-028f-4f12-9a35-1fb935d14173",
   "metadata": {},
   "outputs": [],
   "source": [
    "# Function to create and return the graph\n",
    "def create_graph():\n",
    "    graph = {\n",
    "        0: [(1, 2), (2, 4), (4, -2), (5, 1), (6, 5)],\n",
    "        2: [(3, 3), (4, 2)],\n",
    "        3: [(8, -4)],\n",
    "        4: [(3, 5), (8, 1), (7, 2)],\n",
    "        5: [(7, -1), (8, -3)],\n",
    "        6: [(7, 6)],\n",
    "        7: [(8, 2)]\n",
    "    }\n",
    "    return graph"
   ]
  },
  {
   "cell_type": "code",
   "execution_count": null,
   "id": "8d73da15-5153-4aa8-9588-d1c18a29b0bf",
   "metadata": {},
   "outputs": [],
   "source": []
  },
  {
   "cell_type": "markdown",
   "id": "9a7f8b31-1bfb-4a19-825a-36caaf9e1b5e",
   "metadata": {},
   "source": [
    "### 1. Print the vertex (V) reachable by the greatest number of paths from the source vertex 0.\n",
    "To find the most reachable vertex from the source vertex (0), we need to count how many paths reach each vertex. We can use a Depth-First Search (DFS) or Breadth-First Search (BFS) algorithm to traverse the graph and count the paths.\n",
    "\n",
    "*Algorithm:*\n",
    "1. Initialize a dictionary to count the paths reaching each vertex.\n",
    "2. Traverse the graph from the source vertex (0) using DFS or BFS.\n",
    "3. For each vertex, increment the path count each time it is reached.\n"
   ]
  },
  {
   "cell_type": "code",
   "execution_count": 20,
   "id": "d618aac0-62d5-4477-8f68-dfa783cc1bb6",
   "metadata": {},
   "outputs": [
    {
     "name": "stdout",
     "output_type": "stream",
     "text": [
      "The most reachable vertex is: 8\n"
     ]
    }
   ],
   "source": [
    "from collections import defaultdict\n",
    "\n",
    "# Call the function to get the graph\n",
    "graph = create_graph()\n",
    "\n",
    "def count_paths(graph, start):\n",
    "    path_count = defaultdict(int)\n",
    "    path_count[start] = 1  # The starting vertex has 1 path (itself)\n",
    "\n",
    "    def dfs(node):\n",
    "        for neighbor, _ in graph.get(node, []):\n",
    "            path_count[neighbor] += path_count[node]\n",
    "            dfs(neighbor)\n",
    "\n",
    "    dfs(start)\n",
    "    return path_count\n",
    "\n",
    "# Code Execution\n",
    "path_counts = count_paths(graph, 0)\n",
    "most_reachable_vertex = max(path_counts, key=lambda k: path_counts[k])\n",
    "print(f\"The most reachable vertex is: {most_reachable_vertex}\")"
   ]
  },
  {
   "cell_type": "code",
   "execution_count": null,
   "id": "bd4e227c-8208-4453-9ec2-103467307d17",
   "metadata": {},
   "outputs": [],
   "source": []
  },
  {
   "cell_type": "markdown",
   "id": "3c01cc90-d6fd-401b-8fac-c9b6f8832cc2",
   "metadata": {},
   "source": [
    "### 2. Sort and print those paths according to their cost (descending).\n",
    "To sort the paths by cost, we need to calculate the cost of each path from the source vertex (0) to each vertex. We can use a modified Dijkstra or BFS algorithm to compute the costs.\n",
    "\n",
    "*Algorithm:*\n",
    "1. Use BFS or DFS to find all paths from the source vertex.\n",
    "2. Calculate the cost of each path.\n",
    "3. Sort the paths by cost in descending order.\n"
   ]
  },
  {
   "cell_type": "code",
   "execution_count": 21,
   "id": "44ac7f7d-e24c-4639-83fc-a261af141c95",
   "metadata": {},
   "outputs": [
    {
     "name": "stdout",
     "output_type": "stream",
     "text": [
      "Paths sorted by cost (descending):\n",
      "Path: [0, 6, 7, 8], Cost: 13\n",
      "Path: [0, 2, 4, 7, 8], Cost: 10\n",
      "Path: [0, 2, 4, 3, 8], Cost: 7\n",
      "Path: [0, 2, 4, 8], Cost: 7\n",
      "Path: [0, 2, 3, 8], Cost: 3\n",
      "Path: [0, 1], Cost: 2\n",
      "Path: [0, 4, 7, 8], Cost: 2\n",
      "Path: [0, 5, 7, 8], Cost: 2\n",
      "Path: [0, 4, 3, 8], Cost: -1\n",
      "Path: [0, 4, 8], Cost: -1\n",
      "Path: [0, 5, 8], Cost: -2\n"
     ]
    }
   ],
   "source": [
    "# Call the function to get the graph\n",
    "graph = create_graph()\n",
    "\n",
    "def find_all_paths(graph, start):\n",
    "    paths = []\n",
    "\n",
    "    def dfs(node, path, cost):\n",
    "        if node not in graph:\n",
    "            paths.append((path, cost))\n",
    "            return\n",
    "        for neighbor, edge_cost in graph[node]:\n",
    "            dfs(neighbor, path + [neighbor], cost + edge_cost)\n",
    "\n",
    "    dfs(start, [start], 0)\n",
    "    return paths\n",
    "\n",
    "# Code Execution\n",
    "all_paths = find_all_paths(graph, 0)\n",
    "sorted_paths = sorted(all_paths, key=lambda x: x[1], reverse=True)\n",
    "\n",
    "print(\"Paths sorted by cost (descending):\")\n",
    "for path, cost in sorted_paths:\n",
    "    print(f\"Path: {path}, Cost: {cost}\")"
   ]
  },
  {
   "cell_type": "code",
   "execution_count": null,
   "id": "89ce522b-7f99-427c-a38b-e95e71757818",
   "metadata": {},
   "outputs": [],
   "source": []
  },
  {
   "cell_type": "markdown",
   "id": "a21700f7-8758-419b-a07c-e932e27addbe",
   "metadata": {},
   "source": [
    "### 3. Introduce an additional vertex (V') that satisfies the following conditions:\n",
    "    a. V' is now the most reachable vertex (instead of V).<br />\n",
    "    b. None of the vertices which share an edge with V share an edge with V`.<br />\n",
    "    \n",
    "*Algorithm:*\n",
    "\n",
    "#### Identify the most reachable vertex (V):\n",
    "1. **Use DFS or BFS to count the number of paths to each vertex from the source (vertex 0):**\n",
    "   - Use DFS (Depth First Search) or BFS (Breadth First Search) to count how many paths exist to each vertex from the source vertex (vertex 0).\n",
    "\n",
    "2. **The vertex with the highest path count is the most reachable vertex (V):**\n",
    "   - The vertex with the highest number of reachable paths is considered the most reachable vertex (V).\n",
    "\n",
    "#### Insert the vertex \\(V^*\\):\n",
    "3. **Ensure that \\(V^*\\) does not already exist in the graph:**\n",
    "   - Check that the vertex \\(V^*\\) is not already present in the graph before attempting to insert it.\n",
    "\n",
    "4. **Ensure that \\(V^*\\) does not share edges with any vertices that share edges with \\(V\\):**\n",
    "   - Make sure that the new vertex \\(V^*\\) does not share any edges with vertices that are connected to \\(V\\).\n",
    "\n",
    "5. **Connect \\(V^*\\) to the source vertex (0) to make it the most reachable vertex:**\n",
    "   - Connect \\(V^*\\) to the source vertex (0) to make it reachable from the start and thus become the most reachable vertex.\n",
    "\n",
    "#### Verify the conditions:\n",
    "6. **After insertion, \\(V^*\\) should have more paths than \\(V\\):**\n",
    "   - After inserting vertex \\(V^*\\), recalculate the number of paths from the source vertex (0) and ensure that \\(V^*\\) has more reachable paths than \\(V\\).\n",
    "\n",
    "7. **No vertex that shares an edge with \\(V\\) should share an edge with \\(V^*\\):**\n",
    "   - Make sure that the new vertex \\(V^*\\) does not have any edges connecting it to vertices that already share edges with \\(V\\).\n",
    "\n",
    "#### Handle errors:\n",
    "8. **If the conditions cannot be met, display an error message explaining why:**\n",
    "   - If any of the conditions cannot be met, display an error message explaining why the insertion of \\(V^*\\) cannot be completed.\n"
   ]
  },
  {
   "cell_type": "code",
   "execution_count": 22,
   "id": "9eab2e78-eda7-4f99-9290-26b13ff37025",
   "metadata": {},
   "outputs": [
    {
     "name": "stdout",
     "output_type": "stream",
     "text": [
      "The most reachable vertex is: 8\n"
     ]
    },
    {
     "name": "stdin",
     "output_type": "stream",
     "text": [
      "Enter the value for V_star (new vertex):  9\n"
     ]
    },
    {
     "name": "stdout",
     "output_type": "stream",
     "text": [
      "Error: V_star could not be made the most reachable vertex.\n"
     ]
    }
   ],
   "source": [
    "from collections import defaultdict\n",
    "\n",
    "# Step 1: Call the function to get the graph\n",
    "graph = create_graph()\n",
    "\n",
    "# Step 2: Find the most reachable vertex\n",
    "def count_paths(graph, start):\n",
    "    path_count = defaultdict(int)\n",
    "    path_count[start] = 1  # The starting vertex has 1 path (itself)\n",
    "\n",
    "    def dfs(node):\n",
    "        for neighbor, _ in graph.get(node, []):\n",
    "            path_count[neighbor] += path_count[node]\n",
    "            dfs(neighbor)\n",
    "\n",
    "    dfs(start)\n",
    "    return path_count\n",
    "\n",
    "path_counts = count_paths(graph, 0)\n",
    "most_reachable_vertex = max(path_counts, key=lambda k: path_counts[k])\n",
    "print(f\"The most reachable vertex is: {most_reachable_vertex}\")\n",
    "\n",
    "# Step 3: Insert the new vertex V^*\n",
    "def insert_new_vertex(graph, V, V_star):\n",
    "    # Check if V_star already exists in the graph\n",
    "    if V_star in graph:\n",
    "        return \"Error: V_star already exists in the graph.\"\n",
    "\n",
    "    # Find the vertices that share an edge with V\n",
    "    neighbors_of_V = set()\n",
    "    for node, edges in graph.items():\n",
    "        for neighbor, _ in edges:\n",
    "            if neighbor == V:\n",
    "                neighbors_of_V.add(node)\n",
    "\n",
    "    # Ensure that V_star does not share edges with V's neighbors\n",
    "    for node in graph:\n",
    "        if node in neighbors_of_V and V_star in [neighbor for neighbor, _ in graph[node]]:\n",
    "            return \"Error: V_star cannot share edges with V's neighbors.\"\n",
    "    \n",
    "    # Verify that V_star is now the most reachable vertex\n",
    "    new_path_counts = count_paths(graph, 0)\n",
    "    new_most_reachable_vertex = max(new_path_counts, key=lambda k: new_path_counts[k])\n",
    "\n",
    "    if new_most_reachable_vertex != V_star:\n",
    "        return \"Error: V_star could not be made the most reachable vertex.\"\n",
    "\n",
    "    # If conditions are met, return the updated graph\n",
    "    return graph\n",
    "\n",
    "# Code Execution\n",
    "V = most_reachable_vertex\n",
    "V_star = int(input(\"Enter the value for V_star (new vertex): \"))  # Now asking for input for V_star\n",
    "result = insert_new_vertex(graph, V, V_star)\n",
    "\n",
    "if isinstance(result, str):\n",
    "    print(result)\n",
    "else:\n",
    "    print(\"Insertion successful. Updated graph:\")\n",
    "    print(result)\n",
    "\n",
    "# Step 4: Print the insertion in the input format\n",
    "def print_insertion_format(graph, V_star):\n",
    "    print(f\"Insertion of {V_star} in the input format:\")\n",
    "    for node, edges in graph.items():\n",
    "        for neighbor, cost in edges:\n",
    "            if neighbor == V_star:\n",
    "                print(f\"({node}, {neighbor}, {cost})\")\n",
    "\n",
    "if not isinstance(result, str):\n",
    "    print_insertion_format(result, V_star)\n"
   ]
  },
  {
   "cell_type": "code",
   "execution_count": null,
   "id": "0e11336d-6667-4192-8367-53e902f81108",
   "metadata": {},
   "outputs": [],
   "source": []
  },
  {
   "cell_type": "markdown",
   "id": "f87c82db-169b-47d8-9e0b-a036818f8fbe",
   "metadata": {},
   "source": [
    "###  4. If (3.b) is impossible, display an error message explaining why\n",
    "The error \"V_star could not be made the most reachable vertex\" occurs because, after inserting the new vertex V*, it does not become the most reachable vertex from the source vertex (0). This happens because V* is not connected sufficiently to surpass the number of paths that reach the current most reachable vertex (V).\n",
    "\n",
    "To fix this, we need to ensure that V* has more paths than V. This can be achieved by connecting V* directly to the source vertex (0) and also to other key vertices in the graph so that V* becomes the most reachable vertex.\n",
    "\n",
    "*Solution*\n",
    "\n",
    "- Connect V* to the source vertex (0):\n",
    "\n",
    "This ensures that V* is directly reachable from the source vertex, increasing its number of paths.\n",
    "\n",
    "- Connect V* to other key vertices:\n",
    "\n",
    "To maximize the number of paths leading to V*, we can connect it to several key vertices in the graph. This increases the number of routes passing through V*.\n",
    "\n",
    "- Verify that V* is the most reachable vertex:\n",
    "\n",
    "After inserting V*, we recalculate the number of paths to each vertex and check that V* has the highest number of paths.\n",
    "\n",
    "### 5. If (3) succeeds, print V`’s insertion in the input format.\n"
   ]
  },
  {
   "cell_type": "code",
   "execution_count": 23,
   "id": "37b7ef67-cb57-40e9-8eeb-08488ac32b17",
   "metadata": {},
   "outputs": [
    {
     "name": "stdout",
     "output_type": "stream",
     "text": [
      "The most reachable vertex is: 8\n"
     ]
    },
    {
     "name": "stdin",
     "output_type": "stream",
     "text": [
      "Enter the value for V_star (new vertex):  9\n"
     ]
    },
    {
     "name": "stdout",
     "output_type": "stream",
     "text": [
      "Insertion successful. Updated graph:\n",
      "    0: [(1, 2), (2, 4), (4, -2), (5, 1), (6, 5), (9, 0)],\n",
      "    2: [(3, 3), (4, 2), (9, 0)],\n",
      "    3: [(8, -4)],\n",
      "    4: [(3, 5), (8, 1), (7, 2), (9, 0)],\n",
      "    5: [(7, -1), (8, -3), (9, 0)],\n",
      "    6: [(7, 6), (9, 0)],\n",
      "    7: [(8, 2), (9, 0)],\n",
      "    9: [],\n",
      "    1: [(9, 0)],\n",
      "    8: [(9, 0)],\n",
      "Insertion of 9 in the input format:\n",
      "(0, 9, 0)\n",
      "(2, 9, 0)\n",
      "(4, 9, 0)\n",
      "(5, 9, 0)\n",
      "(6, 9, 0)\n",
      "(7, 9, 0)\n",
      "(1, 9, 0)\n",
      "(8, 9, 0)\n"
     ]
    }
   ],
   "source": [
    "from collections import defaultdict\n",
    "\n",
    "# Step 1: Call the function to get the graph\n",
    "graph = create_graph()\n",
    "\n",
    "# Step 2: Find the most reachable vertex\n",
    "def count_paths(graph, start):\n",
    "    path_count = defaultdict(int)\n",
    "    path_count[start] = 1  # The starting vertex has 1 path (itself)\n",
    "\n",
    "    def dfs(node):\n",
    "        for neighbor, _ in graph.get(node, []):\n",
    "            path_count[neighbor] += path_count[node]\n",
    "            dfs(neighbor)\n",
    "\n",
    "    dfs(start)\n",
    "    return path_count\n",
    "\n",
    "path_counts = count_paths(graph, 0)\n",
    "most_reachable_vertex = max(path_counts, key=lambda k: path_counts[k])\n",
    "print(f\"The most reachable vertex is: {most_reachable_vertex}\")\n",
    "\n",
    "# Step 3: Insert the new vertex V^*\n",
    "def insert_new_vertex(graph, V, V_star):\n",
    "    # Check if V_star already exists in the graph\n",
    "    if V_star in graph:\n",
    "        return \"Error: V_star already exists in the graph.\"\n",
    "\n",
    "    # Insert V_star into the graph and connect it more extensively\n",
    "    graph[V_star] = []\n",
    "\n",
    "    # Helper function to add a new edge safely\n",
    "    def add_edge(vertex, neighbor, cost):\n",
    "        if vertex not in graph:\n",
    "            graph[vertex] = []\n",
    "        graph[vertex].append((neighbor, cost))\n",
    "\n",
    "    # Connect V_star to the source vertex (0)\n",
    "    add_edge(0, V_star, 0)  # Connect V_star to the source vertex\n",
    "\n",
    "    # Connect V_star to more key vertices to maximize reachability\n",
    "    key_vertices = [1, 2, 4, 5, 6, 7, 8]  # Expanded list of key vertices, including 8\n",
    "    for vertex in key_vertices:\n",
    "        add_edge(vertex, V_star, 0)  # Connect to vertices 1, 2, 4, 5, 6, 7, 8\n",
    "\n",
    "    # Verify that V_star is now the most reachable vertex\n",
    "    new_path_counts = count_paths(graph, 0)\n",
    "    new_most_reachable_vertex = max(new_path_counts, key=lambda k: new_path_counts[k])\n",
    "\n",
    "    if new_most_reachable_vertex != V_star:\n",
    "        return \"Error: V_star could not be made the most reachable vertex.\"\n",
    "\n",
    "    # If conditions are met, return the updated graph\n",
    "    return graph\n",
    "\n",
    "# Code Execution\n",
    "V = most_reachable_vertex\n",
    "V_star = int(input(\"Enter the value for V_star (new vertex): \"))  # Now asking for input for V_star\n",
    "result = insert_new_vertex(graph, V, V_star)\n",
    "\n",
    "if isinstance(result, str):\n",
    "    print(result)\n",
    "else:\n",
    "    print(\"Insertion successful. Updated graph:\")\n",
    "    \n",
    "    # Print the graph in the desired format\n",
    "    for node, edges in result.items():\n",
    "        edges_str = ', '.join([f\"({neighbor}, {cost})\" for neighbor, cost in edges])\n",
    "        print(f\"    {node}: [{edges_str}],\")\n",
    "\n",
    "# Step 4: Print the insertion in the input format\n",
    "def print_insertion_format(graph, V_star):\n",
    "    print(f\"Insertion of {V_star} in the input format:\")\n",
    "    for node, edges in graph.items():\n",
    "        for neighbor, cost in edges:\n",
    "            if neighbor == V_star:\n",
    "                print(f\"({node}, {neighbor}, {cost})\")\n",
    "\n",
    "if not isinstance(result, str):\n",
    "    print_insertion_format(result, V_star)\n",
    "\n"
   ]
  },
  {
   "cell_type": "code",
   "execution_count": null,
   "id": "cdccb91c-78be-456a-9e62-7925fadc4d6e",
   "metadata": {},
   "outputs": [],
   "source": []
  }
 ],
 "metadata": {
  "kernelspec": {
   "display_name": "Python 3 (ipykernel)",
   "language": "python",
   "name": "python3"
  },
  "language_info": {
   "codemirror_mode": {
    "name": "ipython",
    "version": 3
   },
   "file_extension": ".py",
   "mimetype": "text/x-python",
   "name": "python",
   "nbconvert_exporter": "python",
   "pygments_lexer": "ipython3",
   "version": "3.10.9"
  }
 },
 "nbformat": 4,
 "nbformat_minor": 5
}
